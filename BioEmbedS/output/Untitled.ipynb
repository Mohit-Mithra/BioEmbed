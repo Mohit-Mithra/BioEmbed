{
 "cells": [
  {
   "cell_type": "code",
   "execution_count": 12,
   "metadata": {},
   "outputs": [
    {
     "name": "stdout",
     "output_type": "stream",
     "text": [
      "0.3907382444177818\n",
      "[('svm/poly/1.0/3', 0.3907382444177818), ('svm/rbf/10.0/0.01', 0.3796584700866965), ('svm/rbf/1000.0/0.01', 0.37903846445226685), ('svm/rbf/10000.0/0.01', 0.37903846445226685), ('svm/rbf/100.0/0.01', 0.3776575076372359), ('svm/poly/1.0/5', 0.3685426169749094), ('svm/poly/1.0/2', 0.353416423503091), ('svm/rbf/1.0/0.01', 0.35331831497196753), ('svm/rbf/10.0/0.1', 0.35318106338071886), ('svm/rbf/100.0/0.1', 0.35318106338071886)]\n"
     ]
    }
   ],
   "source": [
    "import json\n",
    "from itertools import islice\n",
    "import operator\n",
    "\n",
    "def take(n, iterable):\n",
    "    \"Return first n items of the iterable as a list\"\n",
    "    return list(islice(iterable, n))\n",
    "\n",
    "with open('bioembeds_model_scores_fold_4.json') as json_file:\n",
    "    model_scores = json.load(json_file)\n",
    "    \n",
    "print(max(model_scores.items(), key=operator.itemgetter(1))[1])\n",
    "sorted_scores = {k: v for k, v in sorted(model_scores.items(), key=lambda item: item[1], reverse=True)}\n",
    "print(take(10, sorted_scores.items()))"
   ]
  },
  {
   "cell_type": "code",
   "execution_count": null,
   "metadata": {},
   "outputs": [],
   "source": []
  }
 ],
 "metadata": {
  "kernelspec": {
   "display_name": "Python 3",
   "language": "python",
   "name": "python3"
  },
  "language_info": {
   "codemirror_mode": {
    "name": "ipython",
    "version": 3
   },
   "file_extension": ".py",
   "mimetype": "text/x-python",
   "name": "python",
   "nbconvert_exporter": "python",
   "pygments_lexer": "ipython3",
   "version": "3.7.3"
  }
 },
 "nbformat": 4,
 "nbformat_minor": 2
}
